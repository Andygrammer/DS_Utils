{
 "cells": [
  {
   "cell_type": "markdown",
   "metadata": {},
   "source": [
    "# Dataset Download"
   ]
  },
  {
   "cell_type": "markdown",
   "metadata": {},
   "source": [
    "How to download, unzip and load a dataset\n",
    "\n",
    "**Source (all credits to):** *Hands-On Machine Learning with Scikit-Learn and TensorFlow - Aurelien Geron*"
   ]
  },
  {
   "cell_type": "markdown",
   "metadata": {},
   "source": [
    "# 1. Import Libraries"
   ]
  },
  {
   "cell_type": "code",
   "execution_count": 44,
   "metadata": {},
   "outputs": [],
   "source": [
    "import pandas as pd\n",
    "import os\n",
    "import tarfile\n",
    "from six.moves import urllib"
   ]
  },
  {
   "cell_type": "markdown",
   "metadata": {},
   "source": [
    "# 2. Download Data"
   ]
  },
  {
   "cell_type": "code",
   "execution_count": 47,
   "metadata": {},
   "outputs": [
    {
     "data": {
      "text/plain": [
       "('../datasets/housing/housing.tgz',\n",
       " <http.client.HTTPMessage at 0x7fabf67e5dc0>)"
      ]
     },
     "execution_count": 47,
     "metadata": {},
     "output_type": "execute_result"
    }
   ],
   "source": [
    "DOWNLOAD_ROOT = 'https://raw.githubusercontent.com/ageron/handson-ml/master/'\n",
    "DOWNLOAD_LINK_HOUSING = 'datasets/housing'\n",
    "HOUSING_PATH = '../datasets/housing'\n",
    "HOUSING_URL = DOWNLOAD_ROOT + DOWNLOAD_LINK_HOUSING + '/housing.tgz'\n",
    "\n",
    "if not os.path.isdir(HOUSING_PATH):\n",
    "    os.makedirs(HOUSING_PATH)\n",
    "\n",
    "tgz_path = os.path.join(HOUSING_PATH, 'housing.tgz')\n",
    "urllib.request.urlretrieve(HOUSING_URL, tgz_path)"
   ]
  },
  {
   "cell_type": "markdown",
   "metadata": {},
   "source": [
    "# 3. Unzip Data"
   ]
  },
  {
   "cell_type": "code",
   "execution_count": 48,
   "metadata": {},
   "outputs": [],
   "source": [
    "housing_tgz = tarfile.open(tgz_path)\n",
    "housing_tgz.extractall(path=HOUSING_PATH)\n",
    "housing_tgz.close()"
   ]
  },
  {
   "cell_type": "markdown",
   "metadata": {},
   "source": [
    "# 4. Load Data"
   ]
  },
  {
   "cell_type": "code",
   "execution_count": null,
   "metadata": {},
   "outputs": [],
   "source": [
    "csv_path = os.path.join(HOUSING_PATH, 'housing.csv')\n",
    "data = pd.read_csv(csv_path)\n",
    "\n",
    "data.sample(5)"
   ]
  }
 ],
 "metadata": {
  "kernelspec": {
   "display_name": "Python 3",
   "language": "python",
   "name": "python3"
  },
  "language_info": {
   "codemirror_mode": {
    "name": "ipython",
    "version": 3
   },
   "file_extension": ".py",
   "mimetype": "text/x-python",
   "name": "python",
   "nbconvert_exporter": "python",
   "pygments_lexer": "ipython3",
   "version": "3.8.3"
  }
 },
 "nbformat": 4,
 "nbformat_minor": 4
}
